{
 "cells": [
  {
   "cell_type": "code",
   "execution_count": 1,
   "metadata": {},
   "outputs": [],
   "source": [
    "from Bio.PDB import *\n",
    "import json\n",
    "import numpy as np\n",
    "import time\n",
    "\n",
    "DIAM = 25.0 # diameter of the spheres\n",
    "molec = '/home/aziza/1oph.pdb'"
   ]
  },
  {
   "cell_type": "code",
   "execution_count": 2,
   "metadata": {},
   "outputs": [],
   "source": [
    "def findMostRemote():\n",
    "    parser = PDBParser()\n",
    "    structure = parser.get_structure('mymol', molec)\n",
    "    max_dist = -5.0\n",
    "    for model in structure:\n",
    "        for chain in model:\n",
    "            for residue1 in chain:\n",
    "                for model in structure:\n",
    "                    for chain in model:\n",
    "                        for residue2 in chain:\n",
    "                            try:\n",
    "                                if max_dist < residue1['CA'] - residue2['CA']:\n",
    "                                    max_dist = residue1['CA'] - residue2['CA']\n",
    "                                    dot1 = residue1['CA'].get_coord()\n",
    "                                    dot2 = residue2['CA'].get_coord()\n",
    "                            except KeyError:\n",
    "                                continue\n",
    "    return dot1, dot2"
   ]
  },
  {
   "cell_type": "code",
   "execution_count": 3,
   "metadata": {},
   "outputs": [],
   "source": [
    "def darin(coord, a1, r, dist):\n",
    "    \"\"\"\n",
    "    darin() function defines if the atom with coordinates coord\n",
    "    belongs to the area between a(i) and a(i + 1) surfaces\n",
    "    (\"darin\" from german \"inside\")\n",
    "    It takes 4 arguments:\n",
    "        p - coordinates of the atom\n",
    "        a1 - A(i) dot, where one of the surfaces liegt\n",
    "        r - vector between two most remote CA atoms (our line, axis)\n",
    "        dist - module of r vector\n",
    "    and returns True, if belongs, and False in other cases.\n",
    "    \"\"\"\n",
    "    p = np.asarray(coord)\n",
    "    # the other surface\n",
    "    a2 = a1 + r * DIAM / dist\n",
    "    if np.dot(p - a1, a2 - a1) > 0 and np.dot(p - a2, a1 - a2):\n",
    "        return True\n",
    "    return False"
   ]
  },
  {
   "cell_type": "code",
   "execution_count": 4,
   "metadata": {},
   "outputs": [],
   "source": [
    "def findCenters(dot1, dot2):\n",
    "    start = np.array(dot1)\n",
    "    end = np.array(dot2)\n",
    "    dist = np.linalg.norm(start - end)\n",
    "    print(\"Distance is {}\".format(dist))\n",
    "    r = end - start\n",
    "    numb_centers = dist / DIAM / 0.9\n",
    "    anfangs = np.zeros((int(numb_centers), 3), dtype=np.float64)\n",
    "    delta = r * DIAM * 0.9 / dist\n",
    "    anfangs[0, :] = start - r * 0.1 * DIAM / dist\n",
    "    i = 1\n",
    "    print(anfangs.shape)\n",
    "    while i < int(numb_centers):\n",
    "        anfangs[i, :] = anfangs[i - 1, :] + delta\n",
    "        i += 1\n",
    "    print(\"Anfangs {}\".format(anfangs))\n",
    "\n",
    "    # теперь основная часть, находим центры как среднее всех координат атомов, которые входят в сферу\n",
    "    \n",
    "    parser = PDBParser()\n",
    "    structure = parser.get_structure('mymol', molec)\n",
    "    centers = np.zeros((int(numb_centers), 4), dtype=np.float64)\n",
    "    # Для каждой области (это уже не сферы)\n",
    "    for i in range(int(numb_centers)):\n",
    "        for atom in structure.get_atoms():\n",
    "            # проверяем лежит ли атом в этой области\n",
    "            if darin(atom.get_coord(), anfangs[i], r, dist):\n",
    "                centers[i, :3] = centers[i, :3] + atom.get_coord()\n",
    "                centers[i, 3] += 1\n",
    "    for i in range(int(numb_centers)):\n",
    "        centers[i, :3] /= centers[i, 3]\n",
    "    with open('centers.json', 'w') as outfile:\n",
    "        json.dump(centers[:, :3].tolist(), outfile)\n",
    "    print(centers)"
   ]
  },
  {
   "cell_type": "code",
   "execution_count": 6,
   "metadata": {},
   "outputs": [
    {
     "name": "stdout",
     "output_type": "stream",
     "text": [
      "{'dot1': [43.04199981689453, 18.172000885009766, -13.618000030517578], 'dot2': [30.39299964904785, 38.7760009765625, 83.73100280761719]}\n",
      "Distance is 100.30628284707824\n",
      "(4, 3)\n",
      "Anfangs [[ 43.35725924  17.65847373 -16.04429378]\n",
      " [ 40.51992447  22.28021814   5.79234996]\n",
      " [ 37.6825897   26.90196255  27.62899371]\n",
      " [ 34.84525493  31.52370696  49.46563745]]\n"
     ]
    },
    {
     "name": "stderr",
     "output_type": "stream",
     "text": [
      "/home/aziza/miniconda3/lib/python3.6/site-packages/Bio/PDB/StructureBuilder.py:91: PDBConstructionWarning: WARNING: Chain A is discontinuous at line 5072.\n",
      "  PDBConstructionWarning)\n",
      "/home/aziza/miniconda3/lib/python3.6/site-packages/Bio/PDB/StructureBuilder.py:91: PDBConstructionWarning: WARNING: Chain B is discontinuous at line 5275.\n",
      "  PDBConstructionWarning)\n"
     ]
    },
    {
     "name": "stdout",
     "output_type": "stream",
     "text": [
      "[[  32.99209168   30.25694349   37.0556302  4919.        ]\n",
      " [  31.43382288   31.38192869   43.0913209  4263.        ]\n",
      " [  29.13108527   34.06917518   53.97683273 3037.        ]\n",
      " [  24.21832282   35.61645751   64.55218762 1871.        ]]\n"
     ]
    }
   ],
   "source": [
    "# dot1, dot2 = findMostRemote()\n",
    "# data = {}\n",
    "# data['dot1'] = dot1.tolist()\n",
    "# data['dot2'] = dot2.tolist()\n",
    "# with open('remote_dots.json', 'w') as outfile:\n",
    "#     json.dump(data, outfile)\n",
    "\n",
    "# time.sleep(20)\n",
    "\n",
    "with open('/home/aziza/Downloads/basa/pymol/ppfmft/centers/remote_dots.json') as json_file:\n",
    "    data = json.load(json_file)\n",
    "print(data)\n",
    "dot1 = data['dot1']\n",
    "dot2 = data['dot2']\n",
    "findCenters(dot1, dot2)"
   ]
  }
 ],
 "metadata": {
  "kernelspec": {
   "display_name": "Python 3",
   "language": "python",
   "name": "python3"
  },
  "language_info": {
   "codemirror_mode": {
    "name": "ipython",
    "version": 3
   },
   "file_extension": ".py",
   "mimetype": "text/x-python",
   "name": "python",
   "nbconvert_exporter": "python",
   "pygments_lexer": "ipython3",
   "version": "3.6.9"
  }
 },
 "nbformat": 4,
 "nbformat_minor": 2
}
